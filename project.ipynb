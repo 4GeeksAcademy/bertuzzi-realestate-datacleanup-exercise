{
 "cells": [
  {
   "attachments": {},
   "cell_type": "markdown",
   "id": "innocent-university",
   "metadata": {},
   "source": [
    "# Real Estate Clean up\n",
    "\n",
    "This is a real dataset, and it was downloaded using web scraping techniques. The data contains registers from **Fotocasa** which is one of the most popular real estate websites in Spain. Please, do not do this (web scraping) unless it is for academic purposes.\n",
    "\n",
    "The dataset was downloaded a few years ago by Henry Navarro, and in no case were economic returns obtained from it.\n",
    "\n",
    "It contains thousands of data from real houses published on the web www.fotocasa.com. Your goal is to extract as much information as possible with the knowledge you have so far about data science, for example what is the most expensive house in the entire dataset?\n",
    "\n",
    "Let's start with precisely that question... Good luck!"
   ]
  },
  {
   "attachments": {},
   "cell_type": "markdown",
   "id": "multiple-glass",
   "metadata": {},
   "source": [
    "#### Exercise 00. Read the dataset assets/real_estate.csv and try to visualize the table (★☆☆)"
   ]
  },
  {
   "cell_type": "code",
   "execution_count": 1,
   "id": "frank-heath",
   "metadata": {},
   "outputs": [
    {
     "data": {
      "text/html": [
       "<div>\n",
       "<style scoped>\n",
       "    .dataframe tbody tr th:only-of-type {\n",
       "        vertical-align: middle;\n",
       "    }\n",
       "\n",
       "    .dataframe tbody tr th {\n",
       "        vertical-align: top;\n",
       "    }\n",
       "\n",
       "    .dataframe thead th {\n",
       "        text-align: right;\n",
       "    }\n",
       "</style>\n",
       "<table border=\"1\" class=\"dataframe\">\n",
       "  <thead>\n",
       "    <tr style=\"text-align: right;\">\n",
       "      <th></th>\n",
       "      <th>Unnamed: 0</th>\n",
       "      <th>id_realEstates</th>\n",
       "      <th>isNew</th>\n",
       "      <th>realEstate_name</th>\n",
       "      <th>phone_realEstate</th>\n",
       "      <th>url_inmueble</th>\n",
       "      <th>rooms</th>\n",
       "      <th>bathrooms</th>\n",
       "      <th>surface</th>\n",
       "      <th>price</th>\n",
       "      <th>...</th>\n",
       "      <th>level4Id</th>\n",
       "      <th>level5Id</th>\n",
       "      <th>level6Id</th>\n",
       "      <th>level7Id</th>\n",
       "      <th>level8Id</th>\n",
       "      <th>accuracy</th>\n",
       "      <th>latitude</th>\n",
       "      <th>longitude</th>\n",
       "      <th>zipCode</th>\n",
       "      <th>customZone</th>\n",
       "    </tr>\n",
       "  </thead>\n",
       "  <tbody>\n",
       "    <tr>\n",
       "      <th>0</th>\n",
       "      <td>1</td>\n",
       "      <td>153771986</td>\n",
       "      <td>False</td>\n",
       "      <td>ferrari 57 inmobiliaria</td>\n",
       "      <td>912177526.0</td>\n",
       "      <td>https://www.fotocasa.es/es/comprar/vivienda/ma...</td>\n",
       "      <td>3.0</td>\n",
       "      <td>2.0</td>\n",
       "      <td>103.0</td>\n",
       "      <td>195000</td>\n",
       "      <td>...</td>\n",
       "      <td>0</td>\n",
       "      <td>0</td>\n",
       "      <td>0</td>\n",
       "      <td>0</td>\n",
       "      <td>0</td>\n",
       "      <td>0</td>\n",
       "      <td>40,2948276786438</td>\n",
       "      <td>-3,44402412135624</td>\n",
       "      <td>NaN</td>\n",
       "      <td>NaN</td>\n",
       "    </tr>\n",
       "    <tr>\n",
       "      <th>1</th>\n",
       "      <td>2</td>\n",
       "      <td>153867863</td>\n",
       "      <td>False</td>\n",
       "      <td>tecnocasa fuenlabrada ferrocarril</td>\n",
       "      <td>916358736.0</td>\n",
       "      <td>https://www.fotocasa.es/es/comprar/vivienda/ma...</td>\n",
       "      <td>3.0</td>\n",
       "      <td>1.0</td>\n",
       "      <td>NaN</td>\n",
       "      <td>89000</td>\n",
       "      <td>...</td>\n",
       "      <td>0</td>\n",
       "      <td>0</td>\n",
       "      <td>0</td>\n",
       "      <td>0</td>\n",
       "      <td>0</td>\n",
       "      <td>1</td>\n",
       "      <td>40,28674</td>\n",
       "      <td>-3,79351</td>\n",
       "      <td>NaN</td>\n",
       "      <td>NaN</td>\n",
       "    </tr>\n",
       "    <tr>\n",
       "      <th>2</th>\n",
       "      <td>3</td>\n",
       "      <td>153430440</td>\n",
       "      <td>False</td>\n",
       "      <td>look find boadilla</td>\n",
       "      <td>916350408.0</td>\n",
       "      <td>https://www.fotocasa.es/es/comprar/vivienda/ma...</td>\n",
       "      <td>2.0</td>\n",
       "      <td>2.0</td>\n",
       "      <td>99.0</td>\n",
       "      <td>390000</td>\n",
       "      <td>...</td>\n",
       "      <td>0</td>\n",
       "      <td>0</td>\n",
       "      <td>0</td>\n",
       "      <td>0</td>\n",
       "      <td>0</td>\n",
       "      <td>0</td>\n",
       "      <td>40,4115646786438</td>\n",
       "      <td>-3,90662252135624</td>\n",
       "      <td>NaN</td>\n",
       "      <td>NaN</td>\n",
       "    </tr>\n",
       "    <tr>\n",
       "      <th>3</th>\n",
       "      <td>4</td>\n",
       "      <td>152776331</td>\n",
       "      <td>False</td>\n",
       "      <td>tecnocasa fuenlabrada ferrocarril</td>\n",
       "      <td>916358736.0</td>\n",
       "      <td>https://www.fotocasa.es/es/comprar/vivienda/ma...</td>\n",
       "      <td>3.0</td>\n",
       "      <td>1.0</td>\n",
       "      <td>86.0</td>\n",
       "      <td>89000</td>\n",
       "      <td>...</td>\n",
       "      <td>0</td>\n",
       "      <td>0</td>\n",
       "      <td>0</td>\n",
       "      <td>0</td>\n",
       "      <td>0</td>\n",
       "      <td>0</td>\n",
       "      <td>40,2853785786438</td>\n",
       "      <td>-3,79508142135624</td>\n",
       "      <td>NaN</td>\n",
       "      <td>NaN</td>\n",
       "    </tr>\n",
       "    <tr>\n",
       "      <th>4</th>\n",
       "      <td>5</td>\n",
       "      <td>153180188</td>\n",
       "      <td>False</td>\n",
       "      <td>ferrari 57 inmobiliaria</td>\n",
       "      <td>912177526.0</td>\n",
       "      <td>https://www.fotocasa.es/es/comprar/vivienda/ma...</td>\n",
       "      <td>2.0</td>\n",
       "      <td>2.0</td>\n",
       "      <td>106.0</td>\n",
       "      <td>172000</td>\n",
       "      <td>...</td>\n",
       "      <td>0</td>\n",
       "      <td>0</td>\n",
       "      <td>0</td>\n",
       "      <td>0</td>\n",
       "      <td>0</td>\n",
       "      <td>0</td>\n",
       "      <td>40,2998774864376</td>\n",
       "      <td>-3,45226301356237</td>\n",
       "      <td>NaN</td>\n",
       "      <td>NaN</td>\n",
       "    </tr>\n",
       "    <tr>\n",
       "      <th>...</th>\n",
       "      <td>...</td>\n",
       "      <td>...</td>\n",
       "      <td>...</td>\n",
       "      <td>...</td>\n",
       "      <td>...</td>\n",
       "      <td>...</td>\n",
       "      <td>...</td>\n",
       "      <td>...</td>\n",
       "      <td>...</td>\n",
       "      <td>...</td>\n",
       "      <td>...</td>\n",
       "      <td>...</td>\n",
       "      <td>...</td>\n",
       "      <td>...</td>\n",
       "      <td>...</td>\n",
       "      <td>...</td>\n",
       "      <td>...</td>\n",
       "      <td>...</td>\n",
       "      <td>...</td>\n",
       "      <td>...</td>\n",
       "      <td>...</td>\n",
       "    </tr>\n",
       "    <tr>\n",
       "      <th>15330</th>\n",
       "      <td>15331</td>\n",
       "      <td>153901377</td>\n",
       "      <td>False</td>\n",
       "      <td>infocasa consulting</td>\n",
       "      <td>911360461.0</td>\n",
       "      <td>https://www.fotocasa.es/es/comprar/vivienda/ma...</td>\n",
       "      <td>2.0</td>\n",
       "      <td>1.0</td>\n",
       "      <td>96.0</td>\n",
       "      <td>259470</td>\n",
       "      <td>...</td>\n",
       "      <td>0</td>\n",
       "      <td>0</td>\n",
       "      <td>0</td>\n",
       "      <td>0</td>\n",
       "      <td>0</td>\n",
       "      <td>0</td>\n",
       "      <td>40,45416</td>\n",
       "      <td>-3,70286</td>\n",
       "      <td>NaN</td>\n",
       "      <td>NaN</td>\n",
       "    </tr>\n",
       "    <tr>\n",
       "      <th>15331</th>\n",
       "      <td>15332</td>\n",
       "      <td>150394373</td>\n",
       "      <td>False</td>\n",
       "      <td>inmobiliaria pulpon</td>\n",
       "      <td>912788039.0</td>\n",
       "      <td>https://www.fotocasa.es/es/comprar/vivienda/ma...</td>\n",
       "      <td>3.0</td>\n",
       "      <td>1.0</td>\n",
       "      <td>150.0</td>\n",
       "      <td>165000</td>\n",
       "      <td>...</td>\n",
       "      <td>0</td>\n",
       "      <td>0</td>\n",
       "      <td>0</td>\n",
       "      <td>0</td>\n",
       "      <td>0</td>\n",
       "      <td>0</td>\n",
       "      <td>40,36652</td>\n",
       "      <td>-3,48951</td>\n",
       "      <td>NaN</td>\n",
       "      <td>NaN</td>\n",
       "    </tr>\n",
       "    <tr>\n",
       "      <th>15332</th>\n",
       "      <td>15333</td>\n",
       "      <td>153901397</td>\n",
       "      <td>False</td>\n",
       "      <td>tecnocasa torrelodones</td>\n",
       "      <td>912780348.0</td>\n",
       "      <td>https://www.fotocasa.es/es/comprar/vivienda/ma...</td>\n",
       "      <td>4.0</td>\n",
       "      <td>2.0</td>\n",
       "      <td>175.0</td>\n",
       "      <td>495000</td>\n",
       "      <td>...</td>\n",
       "      <td>0</td>\n",
       "      <td>0</td>\n",
       "      <td>0</td>\n",
       "      <td>0</td>\n",
       "      <td>0</td>\n",
       "      <td>0</td>\n",
       "      <td>40,57444</td>\n",
       "      <td>-3,92124</td>\n",
       "      <td>NaN</td>\n",
       "      <td>NaN</td>\n",
       "    </tr>\n",
       "    <tr>\n",
       "      <th>15333</th>\n",
       "      <td>15334</td>\n",
       "      <td>152607440</td>\n",
       "      <td>False</td>\n",
       "      <td>inmobiliaria pulpon</td>\n",
       "      <td>912788039.0</td>\n",
       "      <td>https://www.fotocasa.es/es/comprar/vivienda/ma...</td>\n",
       "      <td>3.0</td>\n",
       "      <td>2.0</td>\n",
       "      <td>101.0</td>\n",
       "      <td>195000</td>\n",
       "      <td>...</td>\n",
       "      <td>0</td>\n",
       "      <td>0</td>\n",
       "      <td>0</td>\n",
       "      <td>0</td>\n",
       "      <td>0</td>\n",
       "      <td>0</td>\n",
       "      <td>40,36967</td>\n",
       "      <td>-3,48105</td>\n",
       "      <td>NaN</td>\n",
       "      <td>NaN</td>\n",
       "    </tr>\n",
       "    <tr>\n",
       "      <th>15334</th>\n",
       "      <td>15335</td>\n",
       "      <td>153901356</td>\n",
       "      <td>False</td>\n",
       "      <td>infocasa consulting</td>\n",
       "      <td>911360461.0</td>\n",
       "      <td>https://www.fotocasa.es/es/comprar/vivienda/ma...</td>\n",
       "      <td>3.0</td>\n",
       "      <td>2.0</td>\n",
       "      <td>152.0</td>\n",
       "      <td>765000</td>\n",
       "      <td>...</td>\n",
       "      <td>0</td>\n",
       "      <td>0</td>\n",
       "      <td>0</td>\n",
       "      <td>0</td>\n",
       "      <td>0</td>\n",
       "      <td>0</td>\n",
       "      <td>40,45773</td>\n",
       "      <td>-3,69068</td>\n",
       "      <td>NaN</td>\n",
       "      <td>NaN</td>\n",
       "    </tr>\n",
       "  </tbody>\n",
       "</table>\n",
       "<p>15335 rows × 37 columns</p>\n",
       "</div>"
      ],
      "text/plain": [
       "       Unnamed: 0  id_realEstates  isNew                    realEstate_name  \\\n",
       "0               1       153771986  False            ferrari 57 inmobiliaria   \n",
       "1               2       153867863  False  tecnocasa fuenlabrada ferrocarril   \n",
       "2               3       153430440  False                 look find boadilla   \n",
       "3               4       152776331  False  tecnocasa fuenlabrada ferrocarril   \n",
       "4               5       153180188  False            ferrari 57 inmobiliaria   \n",
       "...           ...             ...    ...                                ...   \n",
       "15330       15331       153901377  False                infocasa consulting   \n",
       "15331       15332       150394373  False                inmobiliaria pulpon   \n",
       "15332       15333       153901397  False             tecnocasa torrelodones   \n",
       "15333       15334       152607440  False                inmobiliaria pulpon   \n",
       "15334       15335       153901356  False                infocasa consulting   \n",
       "\n",
       "       phone_realEstate                                       url_inmueble  \\\n",
       "0           912177526.0  https://www.fotocasa.es/es/comprar/vivienda/ma...   \n",
       "1           916358736.0  https://www.fotocasa.es/es/comprar/vivienda/ma...   \n",
       "2           916350408.0  https://www.fotocasa.es/es/comprar/vivienda/ma...   \n",
       "3           916358736.0  https://www.fotocasa.es/es/comprar/vivienda/ma...   \n",
       "4           912177526.0  https://www.fotocasa.es/es/comprar/vivienda/ma...   \n",
       "...                 ...                                                ...   \n",
       "15330       911360461.0  https://www.fotocasa.es/es/comprar/vivienda/ma...   \n",
       "15331       912788039.0  https://www.fotocasa.es/es/comprar/vivienda/ma...   \n",
       "15332       912780348.0  https://www.fotocasa.es/es/comprar/vivienda/ma...   \n",
       "15333       912788039.0  https://www.fotocasa.es/es/comprar/vivienda/ma...   \n",
       "15334       911360461.0  https://www.fotocasa.es/es/comprar/vivienda/ma...   \n",
       "\n",
       "       rooms  bathrooms  surface   price  ... level4Id level5Id level6Id  \\\n",
       "0        3.0        2.0    103.0  195000  ...        0        0        0   \n",
       "1        3.0        1.0      NaN   89000  ...        0        0        0   \n",
       "2        2.0        2.0     99.0  390000  ...        0        0        0   \n",
       "3        3.0        1.0     86.0   89000  ...        0        0        0   \n",
       "4        2.0        2.0    106.0  172000  ...        0        0        0   \n",
       "...      ...        ...      ...     ...  ...      ...      ...      ...   \n",
       "15330    2.0        1.0     96.0  259470  ...        0        0        0   \n",
       "15331    3.0        1.0    150.0  165000  ...        0        0        0   \n",
       "15332    4.0        2.0    175.0  495000  ...        0        0        0   \n",
       "15333    3.0        2.0    101.0  195000  ...        0        0        0   \n",
       "15334    3.0        2.0    152.0  765000  ...        0        0        0   \n",
       "\n",
       "      level7Id level8Id accuracy          latitude          longitude zipCode  \\\n",
       "0            0        0        0  40,2948276786438  -3,44402412135624     NaN   \n",
       "1            0        0        1          40,28674           -3,79351     NaN   \n",
       "2            0        0        0  40,4115646786438  -3,90662252135624     NaN   \n",
       "3            0        0        0  40,2853785786438  -3,79508142135624     NaN   \n",
       "4            0        0        0  40,2998774864376  -3,45226301356237     NaN   \n",
       "...        ...      ...      ...               ...                ...     ...   \n",
       "15330        0        0        0          40,45416           -3,70286     NaN   \n",
       "15331        0        0        0          40,36652           -3,48951     NaN   \n",
       "15332        0        0        0          40,57444           -3,92124     NaN   \n",
       "15333        0        0        0          40,36967           -3,48105     NaN   \n",
       "15334        0        0        0          40,45773           -3,69068     NaN   \n",
       "\n",
       "      customZone  \n",
       "0            NaN  \n",
       "1            NaN  \n",
       "2            NaN  \n",
       "3            NaN  \n",
       "4            NaN  \n",
       "...          ...  \n",
       "15330        NaN  \n",
       "15331        NaN  \n",
       "15332        NaN  \n",
       "15333        NaN  \n",
       "15334        NaN  \n",
       "\n",
       "[15335 rows x 37 columns]"
      ]
     },
     "execution_count": 1,
     "metadata": {},
     "output_type": "execute_result"
    }
   ],
   "source": [
    "import pandas as pd\n",
    "import numpy as np\n",
    "\n",
    "# This CSV file contains semicolons instead of comas as separator\n",
    "ds = pd.read_csv('assets/real_estate.csv', sep=';')\n",
    "ds"
   ]
  },
  {
   "attachments": {},
   "cell_type": "markdown",
   "id": "latin-guest",
   "metadata": {},
   "source": [
    "#### Exercise 01. Which is the most expensive house in the dataset? (★☆☆)\n",
    "\n",
    "Print the address and the price of the selected house. For example:\n",
    "\n",
    "`The house with address General Street Nº5 is the most expensive and its price is 5000000 USD`"
   ]
  },
  {
   "cell_type": "code",
   "execution_count": 2,
   "id": "developing-optimum",
   "metadata": {},
   "outputs": [
    {
     "name": "stdout",
     "output_type": "stream",
     "text": [
      "The house with address El Escorial is the most expensive and its price is 8500000 USD\n"
     ]
    }
   ],
   "source": [
    "# TODO\n",
    "houses = ds.sort_values(by=['price'], ascending=False)\n",
    "house = houses.head(1)\n",
    "price = house['price'].iloc[0]\n",
    "address = house['address'].iloc[0]\n",
    "print(f'The house with address {address} is the most expensive and its price is {price} USD')"
   ]
  },
  {
   "attachments": {},
   "cell_type": "markdown",
   "id": "lesser-cosmetic",
   "metadata": {},
   "source": [
    "#### Exercise 02. Which is the cheapest house in the dataset? (★☆☆)\n",
    "\n",
    "Print the address and the price of the selected house. For example:\n",
    "\n",
    "`The house with address Concrete Street Nº1 is the cheapest and its price is 12000 USD`"
   ]
  },
  {
   "cell_type": "code",
   "execution_count": 3,
   "id": "lovely-oasis",
   "metadata": {},
   "outputs": [
    {
     "name": "stdout",
     "output_type": "stream",
     "text": [
      "The house with address Calle Presidente Felipe Gonzalez, Arganda del Rey is the most affordbale and its price is 195000 USD\n"
     ]
    }
   ],
   "source": [
    "# TODO\n",
    "# TODO\n",
    "houses = ds.loc[ds['price'] != 0]\n",
    "filt_houses = houses.sort_values(by=['price'], ascending=True)\n",
    "house = houses.head(1)\n",
    "price = house['price'].iloc[0]\n",
    "address = house['address'].iloc[0]\n",
    "print(f'The house with address {address} is the most affordbale and its price is {price} USD')"
   ]
  },
  {
   "attachments": {},
   "cell_type": "markdown",
   "id": "compliant-fellowship",
   "metadata": {},
   "source": [
    "#### Exercise 03. Which is the biggest and the smallest house in the dataset? (★☆☆)\n",
    "\n",
    "Print both the address and the surface of the selected houses. For example:\n",
    "\n",
    "`The biggest house is located on Yukka Street Nº10 and its surface is 5000 meters`\n",
    "\n",
    "`The smallest house is located on County Road 1 N and its surface is 200 meters`"
   ]
  },
  {
   "cell_type": "code",
   "execution_count": 4,
   "id": "every-tiffany",
   "metadata": {},
   "outputs": [
    {
     "name": "stdout",
     "output_type": "stream",
     "text": [
      "The biggest house is located on Calle Presidente Felipe Gonzalez, Arganda del Rey and its surface is 249000.0 meters\n",
      "The smallest house is located on Calle Presidente Felipe Gonzalez, Arganda del Rey and its surface is 15.0 meters\n"
     ]
    }
   ],
   "source": [
    "# TODO\n",
    "biggest_house = ds.sort_values(by=['surface'], ascending=False).iloc[0]\n",
    "smallest_house = ds.sort_values(by=['surface'], ascending=True).iloc[0]\n",
    "\n",
    "biggest_surface = biggest_house['surface']\n",
    "biggest_address = biggest_house['address']\n",
    "smallest_surface = smallest_house['surface']\n",
    "smallest_address = smallest_house['address']\n",
    "print(f\"The biggest house is located on {address} and its surface is {biggest_surface} meters\")\n",
    "print(f\"The smallest house is located on {address} and its surface is {smallest_surface} meters\")"
   ]
  },
  {
   "attachments": {},
   "cell_type": "markdown",
   "id": "danish-spirit",
   "metadata": {},
   "source": [
    "#### Exercise 04. How many populations (level5 column) the dataset contains? (★☆☆)\n",
    "\n",
    "Print the names of the populations with a comma as a separator. For example:\n",
    "\n",
    "`> print(populations)`\n",
    "\n",
    "`population1, population2, population3, ...`"
   ]
  },
  {
   "cell_type": "code",
   "execution_count": 5,
   "id": "exciting-accreditation",
   "metadata": {},
   "outputs": [
    {
     "name": "stdout",
     "output_type": "stream",
     "text": [
      "168\n",
      "['Arganda del Rey', 'Fuenlabrada', 'Boadilla del Monte', 'Las Rozas de Madrid', ' Madrid Capital', 'Villaviciosa de Odón', 'Pinto', 'Valdemoro', 'Navalcarnero', 'Pozuelo de Alarcón', 'Torrejón de Ardoz', 'Navalagamella', 'San Sebastián de los Reyes', 'Rivas-vaciamadrid', 'Alpedrete', 'Móstoles', 'San Fernando de Henares', 'Coslada', 'Becerril de la Sierra', 'Alcalá de Henares', 'Chinchón', 'Parla', 'Alcorcón', 'El Escorial', 'Leganés', 'Pedrezuela', 'Majadahonda', 'Villanueva de la Cañada', 'Villanueva del Pardillo', 'Torrelodones', 'Moralzarzal', 'Mejorada del Campo', 'Aranjuez', 'Corpa', 'Getafe', 'Velilla de San Antonio', 'Sevilla la Nueva', 'San Martín de la Vega', 'Villalbilla', 'Collado Villalba', 'Alcobendas', 'El Molar (Madrid)', 'Moraleja de Enmedio', 'Algete', 'Campo Real', 'Torrejón de la Calzada', 'Colmenar Viejo', 'Valdemorillo', 'Fuente El Saz de Jarama', 'Tres Cantos', 'Arroyomolinos (Madrid)', 'Griñón', 'Paracuellos de Jarama', 'Guadarrama', 'Titulcia', 'Galapagar', 'Collado Mediano', 'Los Molinos', 'San Lorenzo de El Escorial', 'Loeches', 'San Martín de Valdeiglesias', 'Navas del Rey', 'Bustarviejo', 'Manzanares El Real', 'Carabaña', 'Casarrubuelos', 'Cercedilla', 'Fresnedillas de la Oliva', 'Valdemaqueda', 'Robledo de Chavela', 'Miraflores de la Sierra', 'Humanes de Madrid', 'Valdetorres de Jarama', 'San Agustín del Guadalix', 'Ciempozuelos', 'Camarma de Esteruelas', 'Torres de la Alameda', 'Talamanca de Jarama', 'El Atazar', 'Hoyo de Manzanares', 'El Boalo - Cerceda – Mataelpino', 'El Álamo', 'Valdilecha', 'Valdeolmos-Alalpardo', 'Guadalix de la Sierra', 'Belmonte de Tajo', 'El Vellón', 'Brunete', 'Redueña', 'Morata de Tajuña', 'Tielmes', 'Gargantilla del Lozoya', 'Meco', 'Venturada', 'Quijorna', 'Cenicientos', 'Torrejón de Velasco', 'Navacerrada', 'Santa María de la Alameda', 'Orusco de Tajuña', 'Daganzo de Arriba', 'Villamanta', 'Anchuelo', 'Valdaracete', 'Ajalvir', 'Los Santos de la Humosa', 'Villamanrique de Tajo', 'Colmenar de Oreja', 'Villa del Prado', 'Fuentidueña de Tajo', 'Colmenar del Arroyo', 'Valdelaguna', 'Cubas de la Sagra', 'Valdeavero', 'Aldea del Fresno', 'Ribatejada', 'Torrelaguna', 'Batres', 'Pezuela de las Torres', 'Colmenarejo', 'Serranillos del Valle', 'Cobeña', 'Soto del Real', 'El Berrueco', 'Villanueva de Perales', 'Fresno de Torote - Serracines', 'Pozuelo del Rey', 'Pelayos de la Presa', 'La Cabrera', 'Nuevo Baztán', 'Perales de Tajuña', 'Villaconejos', 'Villarejo de Salvanés', 'Cadalso de los Vidrios', 'Santorcaz', 'Madarcos', 'Garganta de los Montes', 'Puentes Viejas', 'Torremocha de Jarama', 'Valdemanco', 'Braojos', 'Lozoyuela-navas-sieteiglesias', 'Piñuécar-gandullas', 'Valdepiélagos', 'Valverde de Alcalá', 'Villar del Olmo', 'Villamantilla', 'Horcajo de la Sierra', 'Gascones', 'Zarzalejo', 'Villavieja del Lozoya', 'Brea de Tajo', 'Estremera', 'Chapinería', 'Navarredonda', 'Patones', 'Ambite', 'Navalafuente', 'Lozoya', 'Canencia', 'Cabanillas de la Sierra', 'Buitrago del Lozoya', 'Fresno de Torote', 'Robregordo', 'Pinilla del Valle', 'Rascafría', 'La Hiruela', 'Montejo de la Sierra']\n"
     ]
    }
   ],
   "source": [
    "# TODO\n",
    "populations = ds.level5.unique().tolist()\n",
    "print(len(populations))\n",
    "print(populations)\n",
    "# [print(population) for population in populations]"
   ]
  },
  {
   "attachments": {},
   "cell_type": "markdown",
   "id": "crazy-blame",
   "metadata": {},
   "source": [
    "#### Exercise 05. Does the dataset contain NAs? (★☆☆)\n",
    "\n",
    "Print a boolean value (`True` or `False`) followed by the rows/cols that contains NAs."
   ]
  },
  {
   "cell_type": "code",
   "execution_count": 6,
   "id": "transparent-poetry",
   "metadata": {},
   "outputs": [
    {
     "name": "stdout",
     "output_type": "stream",
     "text": [
      "Does the dataset contain NAs? True\n",
      "Columns with NAs: ['realEstate_name', 'phone_realEstate', 'rooms', 'bathrooms', 'surface', 'description', 'level4', 'level6', 'level7', 'level8', 'zipCode', 'customZone']\n"
     ]
    },
    {
     "name": "stdout",
     "output_type": "stream",
     "text": [
      "Rows with NAs:\n",
      "       Unnamed: 0  id_realEstates  isNew                    realEstate_name  \\\n",
      "0               1       153771986  False            ferrari 57 inmobiliaria   \n",
      "1               2       153867863  False  tecnocasa fuenlabrada ferrocarril   \n",
      "2               3       153430440  False                 look find boadilla   \n",
      "3               4       152776331  False  tecnocasa fuenlabrada ferrocarril   \n",
      "4               5       153180188  False            ferrari 57 inmobiliaria   \n",
      "...           ...             ...    ...                                ...   \n",
      "15330       15331       153901377  False                infocasa consulting   \n",
      "15331       15332       150394373  False                inmobiliaria pulpon   \n",
      "15332       15333       153901397  False             tecnocasa torrelodones   \n",
      "15333       15334       152607440  False                inmobiliaria pulpon   \n",
      "15334       15335       153901356  False                infocasa consulting   \n",
      "\n",
      "       phone_realEstate                                       url_inmueble  \\\n",
      "0           912177526.0  https://www.fotocasa.es/es/comprar/vivienda/ma...   \n",
      "1           916358736.0  https://www.fotocasa.es/es/comprar/vivienda/ma...   \n",
      "2           916350408.0  https://www.fotocasa.es/es/comprar/vivienda/ma...   \n",
      "3           916358736.0  https://www.fotocasa.es/es/comprar/vivienda/ma...   \n",
      "4           912177526.0  https://www.fotocasa.es/es/comprar/vivienda/ma...   \n",
      "...                 ...                                                ...   \n",
      "15330       911360461.0  https://www.fotocasa.es/es/comprar/vivienda/ma...   \n",
      "15331       912788039.0  https://www.fotocasa.es/es/comprar/vivienda/ma...   \n",
      "15332       912780348.0  https://www.fotocasa.es/es/comprar/vivienda/ma...   \n",
      "15333       912788039.0  https://www.fotocasa.es/es/comprar/vivienda/ma...   \n",
      "15334       911360461.0  https://www.fotocasa.es/es/comprar/vivienda/ma...   \n",
      "\n",
      "       rooms  bathrooms  surface   price  ... level4Id level5Id level6Id  \\\n",
      "0        3.0        2.0    103.0  195000  ...        0        0        0   \n",
      "1        3.0        1.0      NaN   89000  ...        0        0        0   \n",
      "2        2.0        2.0     99.0  390000  ...        0        0        0   \n",
      "3        3.0        1.0     86.0   89000  ...        0        0        0   \n",
      "4        2.0        2.0    106.0  172000  ...        0        0        0   \n",
      "...      ...        ...      ...     ...  ...      ...      ...      ...   \n",
      "15330    2.0        1.0     96.0  259470  ...        0        0        0   \n",
      "15331    3.0        1.0    150.0  165000  ...        0        0        0   \n",
      "15332    4.0        2.0    175.0  495000  ...        0        0        0   \n",
      "15333    3.0        2.0    101.0  195000  ...        0        0        0   \n",
      "15334    3.0        2.0    152.0  765000  ...        0        0        0   \n",
      "\n",
      "      level7Id level8Id accuracy          latitude          longitude zipCode  \\\n",
      "0            0        0        0  40,2948276786438  -3,44402412135624     NaN   \n",
      "1            0        0        1          40,28674           -3,79351     NaN   \n",
      "2            0        0        0  40,4115646786438  -3,90662252135624     NaN   \n",
      "3            0        0        0  40,2853785786438  -3,79508142135624     NaN   \n",
      "4            0        0        0  40,2998774864376  -3,45226301356237     NaN   \n",
      "...        ...      ...      ...               ...                ...     ...   \n",
      "15330        0        0        0          40,45416           -3,70286     NaN   \n",
      "15331        0        0        0          40,36652           -3,48951     NaN   \n",
      "15332        0        0        0          40,57444           -3,92124     NaN   \n",
      "15333        0        0        0          40,36967           -3,48105     NaN   \n",
      "15334        0        0        0          40,45773           -3,69068     NaN   \n",
      "\n",
      "      customZone  \n",
      "0            NaN  \n",
      "1            NaN  \n",
      "2            NaN  \n",
      "3            NaN  \n",
      "4            NaN  \n",
      "...          ...  \n",
      "15330        NaN  \n",
      "15331        NaN  \n",
      "15332        NaN  \n",
      "15333        NaN  \n",
      "15334        NaN  \n",
      "\n",
      "[15335 rows x 37 columns]\n"
     ]
    }
   ],
   "source": [
    "# TODO\n",
    "# Check if there are any NAs in the dataset\n",
    "contains_na = ds.isnull().values.any()\n",
    "\n",
    "# Print whether the dataset contains NAs\n",
    "print(f\"Does the dataset contain NAs? {contains_na}\")\n",
    "\n",
    "# If there are NAs, print rows and columns that contain them\n",
    "if contains_na:\n",
    "    # Columns with NAs\n",
    "    cols_with_na = ds.columns[ds.isnull().any()]\n",
    "    print(f\"Columns with NAs: {list(cols_with_na)}\")\n",
    "    \n",
    "    # Rows with NAs\n",
    "    rows_with_na = ds[ds.isnull().any(axis=1)]\n",
    "    print(f\"Rows with NAs:\\n{rows_with_na}\")\n"
   ]
  },
  {
   "attachments": {},
   "cell_type": "markdown",
   "id": "italic-hydrogen",
   "metadata": {},
   "source": [
    "#### Exercise 06. Delete the NAs of the dataset, if applicable (★★☆)\n",
    "\n",
    "Print a comparison between the dimensions of the original DataFrame versus the DataFrame after the deletions."
   ]
  },
  {
   "cell_type": "code",
   "execution_count": 7,
   "id": "administrative-roads",
   "metadata": {},
   "outputs": [
    {
     "name": "stdout",
     "output_type": "stream",
     "text": [
      "Empty DataFrame\n",
      "Columns: [Unnamed: 0, id_realEstates, isNew, realEstate_name, phone_realEstate, url_inmueble, rooms, bathrooms, surface, price, date, description, address, country, level1, level2, level3, level4, level5, level6, level7, level8, upperLevel, countryId, level1Id, level2Id, level3Id, level4Id, level5Id, level6Id, level7Id, level8Id, accuracy, latitude, longitude, zipCode, customZone]\n",
      "Index: []\n",
      "\n",
      "[0 rows x 37 columns]\n"
     ]
    }
   ],
   "source": [
    "# TODO\n",
    "new_ds = ds.dropna()\n",
    "print(new_ds)"
   ]
  },
  {
   "attachments": {},
   "cell_type": "markdown",
   "id": "middle-china",
   "metadata": {},
   "source": [
    "#### Exercise 07. Which is the mean of prices in the population (level5 column) of \"Arroyomolinos (Madrid)\"? (★★☆)\n",
    "\n",
    "Print the obtained value."
   ]
  },
  {
   "cell_type": "code",
   "execution_count": 8,
   "id": "nuclear-belief",
   "metadata": {},
   "outputs": [
    {
     "name": "stdout",
     "output_type": "stream",
     "text": [
      "294541.59854014596\n"
     ]
    }
   ],
   "source": [
    "# TODO\n",
    "pop_arroyomolinos = ds.loc[ds['level5'] == 'Arroyomolinos (Madrid)']\n",
    "prices = pop_arroyomolinos['price']\n",
    "mean_prices = np.mean(prices)\n",
    "print(mean_prices)"
   ]
  },
  {
   "attachments": {},
   "cell_type": "markdown",
   "id": "concerned-radical",
   "metadata": {},
   "source": [
    "#### Exercise 08. Plot the histogram of prices for the population (level5 column) of \"Arroyomolinos (Madrid)\" and explain what you observe (★★☆)\n",
    "\n",
    "Print the histogram of the prices and write in the Markdown cell a brief analysis about the plot."
   ]
  },
  {
   "cell_type": "code",
   "execution_count": 9,
   "id": "sudden-message",
   "metadata": {},
   "outputs": [
    {
     "data": {
      "image/png": "[encoded data removed]",
      "text/plain": [
       "<Figure size 640x480 with 1 Axes>"
      ]
     },
     "metadata": {},
     "output_type": "display_data"
    },
    {
     "data": {
      "image/png": "[encoded data removed]",
      "text/plain": [
       "<Figure size 640x480 with 2 Axes>"
      ]
     },
     "metadata": {},
     "output_type": "display_data"
    }
   ],
   "source": [
    "# TODO: Code\n",
    "import matplotlib.pyplot as plt\n",
    "\n",
    "pop_arroyomolinos = ds.loc[ds['level5'] == 'Arroyomolinos (Madrid)']\n",
    "prices = pop_arroyomolinos['price']\n",
    "\n",
    "plt.figure(1)\n",
    "plt.hist(prices, bins=20)\n",
    "plt.show()\n",
    "\n",
    "plt.figure(2)\n",
    "plt.subplot(1,2,1)\n",
    "plt.hist(prices, bins=10)\n",
    "plt.title('Price Distribution')\n",
    "\n",
    "plt.subplot(1,2,2)\n",
    "plt.boxplot(prices)\n",
    "plt.title('Data Visualization')\n",
    "\n",
    "plt.tight_layout()\n",
    "\n",
    "plt.show()"
   ]
  },
  {
   "attachments": {},
   "cell_type": "markdown",
   "id": "impressed-combination",
   "metadata": {},
   "source": [
    "**TODO: Markdown**. To write here, double-click on this cell, remove this content and place the text you want to write. Then, execute the cell."
   ]
  },
  {
   "attachments": {},
   "cell_type": "markdown",
   "id": "actual-edinburgh",
   "metadata": {},
   "source": [
    "#### Exercise 09. Are the average prices of \"Valdemorillo\" and \"Galapagar\" the same? (★★☆)\n",
    "\n",
    "Print both average prices and then write a conclusion about them."
   ]
  },
  {
   "cell_type": "code",
   "execution_count": 10,
   "id": "numeric-commerce",
   "metadata": {},
   "outputs": [
    {
     "name": "stdout",
     "output_type": "stream",
     "text": [
      "The average price for Valdemorillo is 363860.0, the average price for Galapagar is 360063.0. Valdemorillo is therefore more expensive\n"
     ]
    }
   ],
   "source": [
    "# TODO\n",
    "valdemorillo = ds.loc[ds['level5'] == 'Valdemorillo']\n",
    "price_valdemorillo = valdemorillo['price']\n",
    "avg_price1 = np.around(np.mean(price_valdemorillo))\n",
    "galapagar = ds.loc[ds['level5'] == 'Galapagar']\n",
    "price_galapagar = galapagar['price']\n",
    "avg_price2 = np.around(np.mean(price_galapagar))\n",
    "print(f\"The average price for Valdemorillo is {avg_price1}, the average price for Galapagar is {avg_price2}. Valdemorillo is therefore more expensive\")"
   ]
  },
  {
   "attachments": {},
   "cell_type": "markdown",
   "id": "lonely-article",
   "metadata": {},
   "source": [
    "#### Exercise 10. Are the average prices per square meter (price/m2) of \"Valdemorillo\" and \"Galapagar\" the same? (★★☆)\n",
    "\n",
    "Print both average prices and then write a conclusion about it.\n",
    "\n",
    "Hint: Create a new column called `pps` (price per square meter) and then analyze the values."
   ]
  },
  {
   "cell_type": "code",
   "execution_count": 11,
   "id": "hourly-globe",
   "metadata": {},
   "outputs": [
    {
     "name": "stdout",
     "output_type": "stream",
     "text": [
      "The average price per square meter for Valdemorillo is 1318.0, the average price per square meter for Galapagar is 1606.0. Galapagar is therefore more expensive per square meter.\n"
     ]
    }
   ],
   "source": [
    "# TODO\n",
    "ds['pps'] = ds['price'] / ds['surface']\n",
    "valdemorillo = ds.loc[ds['level5'] == 'Valdemorillo']\n",
    "price_valdemorillo = valdemorillo['pps']\n",
    "avg_price1 = np.around(np.mean(price_valdemorillo))\n",
    "galapagar = ds.loc[ds['level5'] == 'Galapagar']\n",
    "price_galapagar = galapagar['pps']\n",
    "avg_price2 = np.around(np.mean(price_galapagar))\n",
    "print(f\"The average price per square meter for Valdemorillo is {avg_price1}, the average price per square meter for Galapagar is {avg_price2}. Galapagar is therefore more expensive per square meter.\")"
   ]
  },
  {
   "attachments": {},
   "cell_type": "markdown",
   "id": "pleasant-invite",
   "metadata": {},
   "source": [
    "#### Exercise 11. Analyze the relation between the surface and the price of the houses (★★☆)\n",
    "\n",
    "Hint: You can make a `scatter plot`, then write a conclusion about it."
   ]
  },
  {
   "cell_type": "code",
   "execution_count": 12,
   "id": "common-drilling",
   "metadata": {},
   "outputs": [
    {
     "data": {
      "image/png": "[encoded data removed]",
      "text/plain": [
       "<Figure size 800x600 with 1 Axes>"
      ]
     },
     "metadata": {},
     "output_type": "display_data"
    }
   ],
   "source": [
    "import matplotlib.pyplot as plt\n",
    "\n",
    "surface = ds['surface']\n",
    "price = ds['price']\n",
    "\n",
    "plt.figure(figsize=(8, 6))\n",
    "plt.scatter(x=surface, y=price, c='red', alpha=0.7)\n",
    "\n",
    "plt.title('Surface vs. Price', fontsize=14)\n",
    "plt.xlabel('Surface Area (m²)', fontsize=12)\n",
    "plt.ylabel('Price (USD)', fontsize=12)\n",
    "plt.xlim(0,2000)\n",
    "\n",
    "plt.grid(True, linestyle='--', alpha=0.5)\n",
    "\n",
    "plt.show()\n"
   ]
  },
  {
   "attachments": {},
   "cell_type": "markdown",
   "id": "ahead-liquid",
   "metadata": {},
   "source": [
    "**TODO: Markdown**. To write here, double-click on this cell, remove this content and place the text you want to write. Then, execute the cell."
   ]
  },
  {
   "attachments": {},
   "cell_type": "markdown",
   "id": "coordinate-sunrise",
   "metadata": {},
   "source": [
    "#### Exercise 12. How many real estate agencies does the dataset contain? (★★☆)\n",
    "\n",
    "Print the obtained value."
   ]
  },
  {
   "cell_type": "code",
   "execution_count": 13,
   "id": "valid-honolulu",
   "metadata": {},
   "outputs": [
    {
     "name": "stdout",
     "output_type": "stream",
     "text": [
      "The dataset contains 14217 unique real estate agencies\n"
     ]
    }
   ],
   "source": [
    "# TODO\n",
    "# agencies = ds['id_realEstates'].tolist()\n",
    "\n",
    "agencies = ds.id_realEstates.unique()\n",
    "print(f\"The dataset contains {len(agencies)} unique real estate agencies\")"
   ]
  },
  {
   "attachments": {},
   "cell_type": "markdown",
   "id": "binding-ebony",
   "metadata": {},
   "source": [
    "#### Exercise 13. Which is the population (level5 column) that contains the most houses? (★★☆)\n",
    "\n",
    "Print both the population and the number of houses."
   ]
  },
  {
   "cell_type": "code",
   "execution_count": 14,
   "id": "static-perry",
   "metadata": {},
   "outputs": [
    {
     "name": "stdout",
     "output_type": "stream",
     "text": [
      "The population of  Madrid Capital contains the most houses, scoring 6643 properties.\n"
     ]
    }
   ],
   "source": [
    "# TODO\n",
    "grouped_ds = ds.groupby(['level5']).size()\n",
    "max_index = grouped_ds.idxmax()\n",
    "# population = grouped_ds.iloc[max_index]\n",
    "house_count = grouped_ds.max()\n",
    "\n",
    "print(f\"The population of {max_index} contains the most houses, scoring {house_count} properties.\")"
   ]
  },
  {
   "attachments": {},
   "cell_type": "markdown",
   "id": "entire-classification",
   "metadata": {},
   "source": [
    "#### Exercise 14. Now let's work with the \"south belt\" of Madrid. Make a subset of the original DataFrame that contains the following populations (level5 column): \"Fuenlabrada\", \"Leganés\", \"Getafe\", \"Alcorcón\" (★★☆)\n",
    "\n",
    "Hint: Filter the original DataFrame using the column `level5` and the function `isin`."
   ]
  },
  {
   "cell_type": "code",
   "execution_count": 15,
   "id": "binary-input",
   "metadata": {},
   "outputs": [
    {
     "name": "stdout",
     "output_type": "stream",
     "text": [
      "       Unnamed: 0  id_realEstates  isNew  \\\n",
      "1               2       153867863  False   \n",
      "3               4       152776331  False   \n",
      "85             86       153152077  False   \n",
      "94             95       153995577  False   \n",
      "109           110       153586414  False   \n",
      "...           ...             ...    ...   \n",
      "15275       15276       153903887  False   \n",
      "15291       15292       151697757  False   \n",
      "15305       15306       153902389  False   \n",
      "15322       15323       153871864  False   \n",
      "15325       15326       153901467  False   \n",
      "\n",
      "                                 realEstate_name  phone_realEstate  \\\n",
      "1              tecnocasa fuenlabrada ferrocarril       916358736.0   \n",
      "3              tecnocasa fuenlabrada ferrocarril       916358736.0   \n",
      "85                       sinergical inmobiliaria               NaN   \n",
      "94                               viviendas365com       911226014.0   \n",
      "109              area uno asesores inmobiliarios       912664081.0   \n",
      "...                                          ...               ...   \n",
      "15275  aliseda servicios de gestion inmobiliaria       911368198.0   \n",
      "15291                                    unipiso       912788631.0   \n",
      "15305                             jadein ferrero       914871639.0   \n",
      "15322                          gestion comercial       911220662.0   \n",
      "15325                              montehogar 68       911790675.0   \n",
      "\n",
      "                                            url_inmueble  rooms  bathrooms  \\\n",
      "1      https://www.fotocasa.es/es/comprar/vivienda/ma...    3.0        1.0   \n",
      "3      https://www.fotocasa.es/es/comprar/vivienda/ma...    3.0        1.0   \n",
      "85     https://www.fotocasa.es/es/comprar/vivienda/le...    1.0        1.0   \n",
      "94     https://www.fotocasa.es/es/comprar/vivienda/le...    3.0        2.0   \n",
      "109    https://www.fotocasa.es/es/comprar/vivienda/ma...    3.0        3.0   \n",
      "...                                                  ...    ...        ...   \n",
      "15275  https://www.fotocasa.es/es/comprar/vivienda/al...    3.0        1.0   \n",
      "15291  https://www.fotocasa.es/es/comprar/vivienda/al...    3.0        2.0   \n",
      "15305  https://www.fotocasa.es/es/comprar/vivienda/ma...    3.0        2.0   \n",
      "15322  https://www.fotocasa.es/es/comprar/vivienda/ma...    3.0        1.0   \n",
      "15325  https://www.fotocasa.es/es/comprar/vivienda/ma...    2.0        2.0   \n",
      "\n",
      "       surface   price  ... level5Id level6Id level7Id level8Id accuracy  \\\n",
      "1          NaN   89000  ...        0        0        0        0        1   \n",
      "3         86.0   89000  ...        0        0        0        0        0   \n",
      "85        50.0  107000  ...        0        0        0        0        1   \n",
      "94       120.0  320000  ...        0        0        0        0        0   \n",
      "109      142.0  425000  ...        0        0        0        0        0   \n",
      "...        ...     ...  ...      ...      ...      ...      ...      ...   \n",
      "15275     78.0  138000  ...        0        0        0        0        1   \n",
      "15291    110.0  279000  ...        0        0        0        0        0   \n",
      "15305     85.0  170000  ...        0        0        0        0        0   \n",
      "15322     91.0  112000  ...        0        0        0        0        0   \n",
      "15325     99.0  215000  ...        0        0        0        0        1   \n",
      "\n",
      "               latitude          longitude zipCode customZone          pps  \n",
      "1              40,28674           -3,79351     NaN        NaN          NaN  \n",
      "3      40,2853785786438  -3,79508142135624     NaN        NaN  1034.883721  \n",
      "85             40,35059           -3,82693     NaN        NaN  2140.000000  \n",
      "94             40,31933           -3,77574     NaN        NaN  2666.666667  \n",
      "109          40,3313411         -3,8313868     NaN        NaN  2992.957746  \n",
      "...                 ...                ...     ...        ...          ...  \n",
      "15275          40,31381           -3,83733     NaN        NaN  1769.230769  \n",
      "15291        40,3259051           -3,76318     NaN        NaN  2536.363636  \n",
      "15305        40,2882193         -3,8098617     NaN        NaN  2000.000000  \n",
      "15322          40,28282           -3,78892     NaN        NaN  1230.769231  \n",
      "15325          40,28062           -3,79869     NaN        NaN  2171.717172  \n",
      "\n",
      "[907 rows x 38 columns]\n"
     ]
    }
   ],
   "source": [
    "# TODO\n",
    "# south_belt = ds.loc[(ds['level5'] == \"Fuenlabrada\") | (ds['level5'] == \"Leganés\") | (ds['level5'] == \"Getafe\") | (ds['level5'] == \"Alcorcón\")]\n",
    "south_belt = ds.loc[ds['level5'].isin([\"Fuenlabrada\", \"Leganés\", \"Getafe\", \"Alcorcón\"])]\n",
    "print(south_belt)"
   ]
  },
  {
   "attachments": {},
   "cell_type": "markdown",
   "id": "severe-fisher",
   "metadata": {},
   "source": [
    "#### Exercise 15. Make a bar plot of the median of the prices and explain what you observe (you must use the subset obtained in Exercise 14) (★★★)\n",
    "\n",
    "Print the bar of the median of the prices and write in the Markdown cell a brief analysis about the plot."
   ]
  },
  {
   "cell_type": "code",
   "execution_count": 16,
   "id": "0998fa8b",
   "metadata": {},
   "outputs": [
    {
     "name": "stdout",
     "output_type": "stream",
     "text": [
      "<pandas.core.groupby.generic.SeriesGroupBy object at 0x703531c8fb10>\n",
      "level5\n",
      "Alcorcón       179500.0\n",
      "Fuenlabrada    155000.0\n",
      "Getafe         285305.0\n",
      "Leganés        169950.0\n",
      "Name: price, dtype: float64\n"
     ]
    },
    {
     "data": {
      "image/png": "[encoded data removed]",
      "text/plain": [
       "<Figure size 640x480 with 1 Axes>"
      ]
     },
     "metadata": {},
     "output_type": "display_data"
    }
   ],
   "source": [
    "# TODO: Code\n",
    "grouped_ds = south_belt.groupby(['level5'])\n",
    "\n",
    "populations = grouped_ds['level5']\n",
    "print(populations)\n",
    "median_prices = grouped_ds['price'].median()\n",
    "print(median_prices)\n",
    "\n",
    "plt.figure()\n",
    "plt.bar(median_prices.index, height=median_prices.values)\n",
    "plt.title('Median prices by population')\n",
    "plt.xlabel('Population')\n",
    "plt.ylabel('Median price')\n",
    "plt.tight_layout()\n",
    "plt.show()"
   ]
  },
  {
   "attachments": {},
   "cell_type": "markdown",
   "id": "sublime-newspaper",
   "metadata": {},
   "source": [
    "**TODO: Markdown**. To write here, double-click on this cell, remove this content and place the text you want to write. Then, execute the cell."
   ]
  },
  {
   "attachments": {},
   "cell_type": "markdown",
   "id": "speaking-diamond",
   "metadata": {},
   "source": [
    "#### Exercise 16. Calculate the sample mean and variance of the variables: price, rooms, surface area and bathrooms (you must use the subset obtained in Exercise 14) (★★★)\n",
    "\n",
    "Print both values for each variable."
   ]
  },
  {
   "cell_type": "code",
   "execution_count": 17,
   "id": "random-feeling",
   "metadata": {},
   "outputs": [
    {
     "name": "stdout",
     "output_type": "stream",
     "text": [
      "223094.48\n",
      "3.02\n",
      "111.75\n",
      "1.63\n",
      "14921367508.05\n",
      "0.72\n",
      "4263.05\n",
      "0.57\n"
     ]
    }
   ],
   "source": [
    "# TODO\n",
    "# Calculating means()\n",
    "avg_price = np.around(south_belt['price'].mean(), decimals=2)\n",
    "print(avg_price)\n",
    "avg_rooms = np.around(south_belt['rooms'].mean(), decimals=2)\n",
    "print(avg_rooms)\n",
    "avg_surface = np.around(south_belt['surface'].mean(), decimals=2)\n",
    "print(avg_surface)\n",
    "avg_bathrooms = np.around(south_belt['bathrooms'].mean(), decimals=2)\n",
    "print(avg_bathrooms)\n",
    "\n",
    "# Calculating variance()\n",
    "var_price = np.around(south_belt['price'].var(), decimals=2)\n",
    "print(var_price)\n",
    "var_rooms = np.around(south_belt['rooms'].var(), decimals=2)\n",
    "print(var_rooms)\n",
    "var_surface = np.around(south_belt['surface'].var(), decimals=2)\n",
    "print(var_surface)\n",
    "var_bathrooms = np.around(south_belt['bathrooms'].var(), decimals=2)\n",
    "print(var_bathrooms)"
   ]
  },
  {
   "attachments": {},
   "cell_type": "markdown",
   "id": "revolutionary-matrix",
   "metadata": {},
   "source": [
    "#### Exercise 17. What is the most expensive house in each population? You must use the subset obtained in Exercise 14 (★★☆)\n",
    "\n",
    "Print both the address and the price of the selected house of each population. You can print a DataFrame or a single line for each population."
   ]
  },
  {
   "cell_type": "code",
   "execution_count": 18,
   "id": "fifteen-browse",
   "metadata": {},
   "outputs": [
    {
     "name": "stdout",
     "output_type": "stream",
     "text": [
      "The most expensive house in Fuenlabrada is located on Calle de Paulo Freire, 5, Fuenlabrada and has a price of 490000 €\n",
      "The most expensive house in Leganés is located on Avenida Reina Sofía, Leganés and has a price of 650000 €\n",
      "The most expensive house in Getafe is located on Getafe and has a price of 1050000 €\n",
      "The most expensive house in Alcorcón is located on Alcorcón and has a price of 950000 €\n",
      "                 price                                address\n",
      "Fuenlabrada 0   490000  Calle de Paulo Freire, 5, Fuenlabrada\n",
      "Leganés     0   650000           Avenida Reina Sofía, Leganés\n",
      "Getafe      0  1050000                                 Getafe\n",
      "Alcorcón    0   950000                               Alcorcón\n"
     ]
    }
   ],
   "source": [
    "# TODO pops = \"Fuenlabrada\", \"Leganés\", \"Getafe\", \"Alcorcón\"\n",
    "\n",
    "pop_fuenlabrada = south_belt.loc[south_belt['level5'] == 'Fuenlabrada']\n",
    "max_price_fuenlabrada = pop_fuenlabrada['price'].idxmax()\n",
    "house_fuenlabrada = pop_fuenlabrada.loc[max_price_fuenlabrada]\n",
    "add_1 = house_fuenlabrada['address']\n",
    "price_1 = house_fuenlabrada['price']\n",
    "print(f'The most expensive house in Fuenlabrada is located on {add_1} and has a price of {price_1} €')\n",
    "\n",
    "pop_leganés = south_belt.loc[south_belt['level5'] == 'Leganés']\n",
    "max_price_leganés = pop_leganés['price'].idxmax()\n",
    "house_leganés = pop_leganés.loc[max_price_leganés]\n",
    "add_2 = house_leganés['address']\n",
    "price_2 = house_leganés['price']\n",
    "print(f'The most expensive house in Leganés is located on {add_2} and has a price of {price_2} €')\n",
    "\n",
    "pop_getafe = south_belt.loc[south_belt['level5'] == 'Getafe']\n",
    "max_price_getafe = pop_getafe['price'].idxmax()\n",
    "house_getafe = pop_getafe.loc[max_price_getafe]\n",
    "add_3 = house_getafe['address']\n",
    "price_3 = house_getafe['price']\n",
    "print(f'The most expensive house in Getafe is located on {add_3} and has a price of {price_3} €')\n",
    "\n",
    "pop_alcorcón = south_belt.loc[south_belt['level5'] == 'Alcorcón']\n",
    "max_price_alcorcón = pop_alcorcón['price'].idxmax()\n",
    "house_alcorcón = pop_alcorcón.loc[max_price_alcorcón]\n",
    "add_4 = house_alcorcón['address']\n",
    "price_4 = house_alcorcón['price']\n",
    "print(f'The most expensive house in Alcorcón is located on {add_4} and has a price of {price_4} €')\n",
    "\n",
    "df_1 = pd.DataFrame({\"price\" : [price_1], \"address\" : [add_1]})\n",
    "df_2 = pd.DataFrame({\"price\" : [price_2], \"address\" : [add_2]})\n",
    "df_3 = pd.DataFrame({\"price\" : [price_3], \"address\" : [add_3]})\n",
    "df_4 = pd.DataFrame({\"price\" : [price_4], \"address\" : [add_4]})\n",
    "summary_df = pd.concat([df_1, df_2, df_3, df_4], keys=[\"Fuenlabrada\", \"Leganés\", \"Getafe\", \"Alcorcón\"])\n",
    "print(summary_df)"
   ]
  },
  {
   "attachments": {},
   "cell_type": "markdown",
   "id": "activated-knight",
   "metadata": {},
   "source": [
    "#### Exercise 18. Normalize the variable of prices for each population and plot the 4 histograms in the same plot (you must use the subset obtained in Exercise 14) (★★★)\n",
    "\n",
    "For the normalization method, you can use the one you consider; there is not a single correct answer to this question. Print the plot and write in the Markdown cell a brief analysis about the plot.\n",
    "\n",
    "Hint: You can help yourself by reviewing the *multihist* demo of Matplotlib."
   ]
  },
  {
   "cell_type": "code",
   "execution_count": null,
   "id": "civic-meditation",
   "metadata": {},
   "outputs": [
    {
     "name": "stderr",
     "output_type": "stream",
     "text": [
      "/tmp/ipykernel_31606/1613078155.py:5: SettingWithCopyWarning: \n",
      "A value is trying to be set on a copy of a slice from a DataFrame.\n",
      "Try using .loc[row_indexer,col_indexer] = value instead\n",
      "\n",
      "See the caveats in the documentation: https://pandas.pydata.org/pandas-docs/stable/user_guide/indexing.html#returning-a-view-versus-a-copy\n",
      "  south_belt['normalized_price'] = south_belt.groupby('level5')['price'].transform(normalize_prices)\n"
     ]
    },
    {
     "data": {
      "image/png": "[encoded data removed]",
      "text/plain": [
       "<Figure size 640x480 with 4 Axes>"
      ]
     },
     "metadata": {},
     "output_type": "display_data"
    }
   ],
   "source": [
    "# TODO pops = \"Fuenlabrada\", \" Leganés\", \"Getafe\", \"Alcorcón\"\n",
    "def normalize_prices(series):\n",
    "    return (series - series.min()) / (series.max() - series.min())\n",
    "\n",
    "south_belt['normalized_price'] = south_belt.groupby('level5')['price'].transform(normalize_prices)\n",
    "\n",
    "norm_fuenlabrada = south_belt.loc[south_belt['level5'] == \"Fuenlabrada\"]['normalized_price'].tolist()\n",
    "norm_leganés = south_belt.loc[south_belt['level5'] == \"Leganés\"]['normalized_price'].tolist()\n",
    "norm_getafe = south_belt.loc[south_belt['level5'] == \"Getafe\"]['normalized_price'].tolist()\n",
    "norm_alcorcón = south_belt.loc[south_belt['level5'] == \"Alcorcón\"]['normalized_price'].tolist()\n",
    "\n",
    "norm_prices = [norm_fuenlabrada, norm_leganés, norm_getafe, norm_alcorcón]\n",
    "\n",
    "plt.figure()\n",
    "for x in range(len(norm_prices)):\n",
    "    plt.subplot(2,2,x+1)\n",
    "    plt.hist(norm_prices[x], bins=8)\n",
    "    plt.xlim((0,1))\n",
    "    plt.ylim(0,100)\n",
    "\n",
    "plt.show()\n",
    "\n",
    "# Interpretation: In the South Belt area, prices for properties are supposedly roughly normally distributed, as most values are close to 0 after normalization."
   ]
  },
  {
   "attachments": {},
   "cell_type": "markdown",
   "id": "precise-heavy",
   "metadata": {},
   "source": [
    "**TODO: Markdown**. To write here, double-click on this cell, remove this content and place the text you want to write. Then, execute the cell."
   ]
  },
  {
   "attachments": {},
   "cell_type": "markdown",
   "id": "patent-jonathan",
   "metadata": {},
   "source": [
    "#### Exercise 19. What can you say about the price per square meter (price/m2) between the towns of \"Getafe\" and \"Alcorcón\"? You must use the subset obtained in Exercise 14 (★★☆)\n",
    "\n",
    "Hint: Create a new column called `pps` (price per square meter) and then analyze the values."
   ]
  },
  {
   "cell_type": "code",
   "execution_count": 37,
   "id": "initial-liverpool",
   "metadata": {},
   "outputs": [
    {
     "data": {
      "image/png": "[encoded data removed]",
      "text/plain": [
       "<Figure size 640x480 with 2 Axes>"
      ]
     },
     "metadata": {},
     "output_type": "display_data"
    }
   ],
   "source": [
    "# TODO\n",
    "pps = south_belt.groupby('level5')['pps']\n",
    "pps_getafe = south_belt.loc[south_belt['level5'] == \"Getafe\"]['pps'].tolist()\n",
    "pps_alcorcón = south_belt.loc[south_belt['level5'] == \"Alcorcón\"]['pps'].tolist()\n",
    "\n",
    "plt.figure('Comparison 2')\n",
    "plt.subplot(1,2,1)\n",
    "plt.hist(pps_getafe)\n",
    "plt.xlim((0,4000))\n",
    "plt.ylim(0,100)\n",
    "\n",
    "plt.subplot(1,2,2)\n",
    "plt.hist(pps_alcorcón)\n",
    "plt.xlim((0,4000))\n",
    "plt.ylim(0,100)\n",
    "plt.show()\n",
    "# Interpretation: PPS in the population of Getafe is higher than PPS for population of Alcordón"
   ]
  },
  {
   "attachments": {},
   "cell_type": "markdown",
   "id": "enhanced-moscow",
   "metadata": {},
   "source": [
    "#### Exercise 20. Make the same plot for 4 different populations (level5 column) and rearrange them on the same graph. You must use the subset obtained in Exercise 14 (★★☆)\n",
    " \n",
    "Hint: Make a scatter plot of each population using subplots."
   ]
  },
  {
   "cell_type": "code",
   "execution_count": null,
   "id": "accepting-airfare",
   "metadata": {},
   "outputs": [
    {
     "data": {
      "image/png": "[encoded data removed]",
      "text/plain": [
       "<Figure size 640x480 with 4 Axes>"
      ]
     },
     "metadata": {},
     "output_type": "display_data"
    }
   ],
   "source": [
    "# TODO\n",
    "\n",
    "pps = south_belt.groupby('level5')['pps']\n",
    "pps_fuenlabrada = south_belt.loc[south_belt['level5'] == \"Fuenlabrada\"]['pps'].tolist()\n",
    "pps_leganés = south_belt.loc[south_belt['level5'] == \"Leganés\"]['pps'].tolist()\n",
    "pps_getafe = south_belt.loc[south_belt['level5'] == \"Getafe\"]['pps'].tolist()\n",
    "pps_alcorcón = south_belt.loc[south_belt['level5'] == \"Alcorcón\"]['pps'].tolist()\n",
    "\n",
    "norm_pps = [pps_fuenlabrada, pps_leganés, pps_getafe, pps_alcorcón]\n",
    "\n",
    "plt.figure()\n",
    "for x in range(len(norm_pps)):\n",
    "    plt.subplot(2,2,x+1)\n",
    "    plt.hist(norm_pps[x], bins=8)\n",
    "    plt.xlim((0,4000))\n",
    "    plt.ylim(0,100)\n",
    "\n",
    "plt.show()\n",
    "\n",
    "# Interpretation: Getafe appears to be the most expensive population, in terms of PPS. Leganés instead, at first seems to be the cheapest location based on PPS."
   ]
  },
  {
   "attachments": {},
   "cell_type": "markdown",
   "id": "blocked-effects",
   "metadata": {},
   "source": [
    "#### Exercise 21. Make a plot of the coordinates (latitude and longitude columns) of the south belt of Madrid by color of each population (you must use the subset obtained in Exercise 14) (★★★★)\n",
    "\n",
    "Execute the following cell, and then start coding in the next one. You must implement a simple code that transforms the coordinates columns in a Python dictionary (add more information if needed) and then add it to the map"
   ]
  },
  {
   "cell_type": "code",
   "execution_count": 45,
   "id": "headed-privacy",
   "metadata": {},
   "outputs": [
    {
     "data": {
      "application/vnd.jupyter.widget-view+json": {
       "model_id": "b3244672af7442e6a2e014309dc6873f",
       "version_major": 2,
       "version_minor": 0
      },
      "text/plain": [
       "Map(center=[51.507351, -0.127758], controls=(ZoomControl(options=['position', 'zoom_in_text', 'zoom_in_title',…"
      ]
     },
     "execution_count": 45,
     "metadata": {},
     "output_type": "execute_result"
    }
   ],
   "source": [
    "from ipyleaflet import Map, basemaps, Marker\n",
    "\n",
    "# Map centered on (60 degrees latitude and -2.2 degrees longitude)\n",
    "# Latitude, longitude\n",
    "map = Map(center = (51.507351, -0.127758), zoom = 12, min_zoom = 1, max_zoom = 20, \n",
    "    basemap=basemaps.OpenStreetMap.Mapnik)\n",
    "\n",
    "marker_location = (51.507351, -0.127758)  # Example: 60°N, 2.2°W\n",
    "marker = Marker(location=marker_location)\n",
    "\n",
    "# Add the marker to the map\n",
    "map.add_layer(marker)\n",
    "\n",
    "map"
   ]
  },
  {
   "cell_type": "code",
   "execution_count": null,
   "id": "present-mistress",
   "metadata": {},
   "outputs": [],
   "source": [
    "## HERE: plot the coordinates of the estates\n",
    "\n",
    "## PUT HERE YOUR CODE:\n"
   ]
  }
 ],
 "metadata": {
  "kernelspec": {
   "display_name": "Python 3",
   "language": "python",
   "name": "python3"
  },
  "language_info": {
   "codemirror_mode": {
    "name": "ipython",
    "version": 3
   },
   "file_extension": ".py",
   "mimetype": "text/x-python",
   "name": "python",
   "nbconvert_exporter": "python",
   "pygments_lexer": "ipython3",
   "version": "3.11.4"
  }
 },
 "nbformat": 4,
 "nbformat_minor": 5
}
